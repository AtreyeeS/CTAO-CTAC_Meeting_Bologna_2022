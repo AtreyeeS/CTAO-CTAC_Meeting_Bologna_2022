{
 "cells": [
  {
   "cell_type": "markdown",
   "metadata": {},
   "source": [
    "# **A full 1D analysis using the low-level Gammapy API**\n",
    "\n",
    "**Objective: Performing a full spectral anaysis of the point source [PKS 2155-304](http://tevcat.uchicago.edu/?mode=1&showsrc=90)**\n",
    "\n",
    "Here we demonstrate the data reduction and spectral fitting for a point like source, using the reflected regions background estimation method.\n",
    "\n",
    "In practice, we have to:\n",
    "- Create a `~gammapy.data.DataStore` poiting to the relevant data \n",
    "- Apply an observation selection to produce a list of observations, a `~gammapy.data.Observations` object.\n",
    "- Define the reconstructed and true energy axes using the `~gammapy.maps.MapAxis` object\n",
    "- Create the necessary makers : \n",
    "    - the spectrum dataset maker : `~gammapy.makers.SpectrumDatasetMaker`\n",
    "    - the reflected regions finder: either `~gammapy.makers.ReflectedRegionsFinder` or `~gammapy.makers.WobbleRegionsFinder`\n",
    "    - the background maker, here a `~gammapy.makers.ReflectedRegionsBackgroundMaker`\n",
    "    - and usually the safe range maker : `~gammapy.makers.SafeMaskMaker`\n",
    "- Perform the data reduction loop. And for every observation:\n",
    "    - Apply the makers sequentially to produce the current `~gammapy.datasets.SpectrumDatasetOnOff`\n",
    "    - Stack it on the target one.\n",
    "- Define the `~gammapy.modeling.models.SkyModel` to fit the data. Being this a spectral analysis, the `SkyModel` is completely defined by a  `~gammapy.modeling.models.SpectralModel` (no spatial information is required)\n",
    "- Create a `~gammapy.modeling.Fit` object and run it to fit the model parameters\n",
    "- Apply a `~gammapy.estimators.FluxPointsEstimator` to compute flux points for the spectral part of the fit.\n",
    "\n",
    "## Setup\n",
    "First, we setup the analysis by performing required imports."
   ]
  },
  {
   "cell_type": "code",
   "execution_count": 1,
   "metadata": {},
   "outputs": [],
   "source": [
    "import matplotlib.pyplot as plt"
   ]
  },
  {
   "cell_type": "code",
   "execution_count": 2,
   "metadata": {},
   "outputs": [],
   "source": [
    "import numpy as np\n",
    "import astropy.units as u\n",
    "from astropy.coordinates import SkyCoord\n",
    "from gammapy.irf import load_cta_irfs\n",
    "from gammapy.maps import WcsGeom, MapAxis, RegionGeom\n",
    "from gammapy.modeling.models import (\n",
    "    PowerLawSpectralModel,\n",
    "    ExpCutoffPowerLawSpectralModel,\n",
    "    PointSpatialModel,\n",
    "    SkyModel,\n",
    "    Models,\n",
    "    FoVBackgroundModel,\n",
    "    LogParabolaSpectralModel,\n",
    "    EBLAbsorptionNormSpectralModel\n",
    ")\n",
    "from gammapy.makers import SafeMaskMaker, SpectrumDatasetMaker, WobbleRegionsFinder, ReflectedRegionsBackgroundMaker\n",
    "from gammapy.modeling import Fit\n",
    "from gammapy.datasets import MapDataset, FluxPointsDataset, Datasets, SpectrumDataset\n",
    "from scipy.stats import chi2\n",
    "from gammapy.catalog import SourceCatalog4FGL\n",
    "\n",
    "from astropy.coordinates import SkyCoord, Angle\n",
    "from regions import CircleSkyRegion\n",
    "from gammapy.estimators import FluxPointsEstimator\n",
    "from gammapy.data import DataStore\n",
    "from gammapy.visualization import plot_spectrum_datasets_off_regions"
   ]
  },
  {
   "cell_type": "markdown",
   "metadata": {},
   "source": [
    "## Defining the datastore and selecting observations\n",
    "\n",
    "We first use the `~gammapy.data.DataStore` object to access the observations we want to analyse. Here the H.E.S.S. DL3 DR1. "
   ]
  },
  {
   "cell_type": "code",
   "execution_count": 3,
   "metadata": {},
   "outputs": [],
   "source": [
    "data_store = DataStore.from_dir(\"$GAMMAPY_DATA/hess-dl3-dr1/\")"
   ]
  },
  {
   "cell_type": "code",
   "execution_count": 4,
   "metadata": {},
   "outputs": [
    {
     "data": {
      "text/plain": [
       "<SkyCoord (ICRS): (ra, dec) in deg\n",
       "    (329.71693844, -30.22558846)>"
      ]
     },
     "execution_count": 4,
     "metadata": {},
     "output_type": "execute_result"
    }
   ],
   "source": [
    "pos = SkyCoord.from_name(\"PKS 2155-304\")\n",
    "pos.icrs"
   ]
  },
  {
   "cell_type": "markdown",
   "metadata": {},
   "source": [
    "We can now define an observation filter to select only the relevant observations. \n",
    "Here we use a cone search which we define with a python dict.\n",
    "\n",
    "We then filter the `ObservationTable` with `~gammapy.data.ObservationTable.select_observations()`."
   ]
  },
  {
   "cell_type": "code",
   "execution_count": 5,
   "metadata": {},
   "outputs": [],
   "source": [
    "selection = dict(\n",
    "    type=\"sky_circle\",\n",
    "    frame=\"icrs\",\n",
    "    lon=pos.ra,\n",
    "    lat=pos.dec,\n",
    "    radius=2 * u.deg,\n",
    ")\n",
    "obs_ids = data_store.obs_table.select_observations(selection)[\"OBS_ID\"]"
   ]
  },
  {
   "cell_type": "markdown",
   "metadata": {},
   "source": [
    "We can now retrieve the relevant observations by passing their `obs_id` to the`~gammapy.data.DataStore.get_observations()` method."
   ]
  },
  {
   "cell_type": "code",
   "execution_count": 6,
   "metadata": {},
   "outputs": [
    {
     "name": "stdout",
     "output_type": "stream",
     "text": [
      "Number of selected observations : 21\n"
     ]
    }
   ],
   "source": [
    "observations = data_store.get_observations(obs_ids)\n",
    "print(f\"Number of selected observations : {len(observations)}\")"
   ]
  },
  {
   "cell_type": "code",
   "execution_count": 7,
   "metadata": {},
   "outputs": [
    {
     "name": "stdout",
     "output_type": "stream",
     "text": [
      "Observations\n",
      "Number of observations: 21\n",
      "Observation\n",
      "\n",
      "\tobs id            : 33787 \n",
      " \ttstart            : 53945.85\n",
      "\ttstop             : 53945.87\n",
      "\tduration          : 1689.00 s\n",
      "\tpointing (icrs)   : 329.7 deg, -29.7 deg\n",
      "\n",
      "\tdeadtime fraction : 2.5%\n",
      "Observation\n",
      "\n",
      "\tobs id            : 33788 \n",
      " \ttstart            : 53945.87\n",
      "\ttstop             : 53945.89\n",
      "\tduration          : 1689.00 s\n",
      "\tpointing (icrs)   : 329.1 deg, -30.2 deg\n",
      "\n",
      "\tdeadtime fraction : 5.5%\n",
      "Observation\n",
      "\n",
      "\tobs id            : 33789 \n",
      " \ttstart            : 53945.89\n",
      "\ttstop             : 53945.91\n",
      "\tduration          : 1688.00 s\n",
      "\tpointing (icrs)   : 330.3 deg, -30.2 deg\n",
      "\n",
      "\tdeadtime fraction : 6.2%\n",
      "Observation\n",
      "\n",
      "\tobs id            : 33790 \n",
      " \ttstart            : 53945.91\n",
      "\ttstop             : 53945.93\n",
      "\tduration          : 1690.00 s\n",
      "\tpointing (icrs)   : 329.7 deg, -30.7 deg\n",
      "\n",
      "\tdeadtime fraction : 7.6%\n",
      "Observation\n",
      "\n",
      "\tobs id            : 33791 \n",
      " \ttstart            : 53945.94\n",
      "\ttstop             : 53945.95\n",
      "\tduration          : 1689.00 s\n",
      "\tpointing (icrs)   : 329.7 deg, -29.7 deg\n",
      "\n",
      "\tdeadtime fraction : 7.2%\n",
      "Observation\n",
      "\n",
      "\tobs id            : 33792 \n",
      " \ttstart            : 53945.96\n",
      "\ttstop             : 53945.98\n",
      "\tduration          : 1688.00 s\n",
      "\tpointing (icrs)   : 329.1 deg, -30.2 deg\n",
      "\n",
      "\tdeadtime fraction : 7.4%\n",
      "Observation\n",
      "\n",
      "\tobs id            : 33793 \n",
      " \ttstart            : 53945.98\n",
      "\ttstop             : 53946.00\n",
      "\tduration          : 1689.00 s\n",
      "\tpointing (icrs)   : 330.3 deg, -30.2 deg\n",
      "\n",
      "\tdeadtime fraction : 7.2%\n",
      "Observation\n",
      "\n",
      "\tobs id            : 33794 \n",
      " \ttstart            : 53946.00\n",
      "\ttstop             : 53946.02\n",
      "\tduration          : 1688.00 s\n",
      "\tpointing (icrs)   : 329.7 deg, -30.7 deg\n",
      "\n",
      "\tdeadtime fraction : 7.3%\n",
      "Observation\n",
      "\n",
      "\tobs id            : 33795 \n",
      " \ttstart            : 53946.03\n",
      "\ttstop             : 53946.05\n",
      "\tduration          : 1689.00 s\n",
      "\tpointing (icrs)   : 329.7 deg, -29.7 deg\n",
      "\n",
      "\tdeadtime fraction : 7.5%\n",
      "Observation\n",
      "\n",
      "\tobs id            : 33796 \n",
      " \ttstart            : 53946.05\n",
      "\ttstop             : 53946.07\n",
      "\tduration          : 1689.00 s\n",
      "\tpointing (icrs)   : 329.1 deg, -30.2 deg\n",
      "\n",
      "\tdeadtime fraction : 7.4%\n",
      "Observation\n",
      "\n",
      "\tobs id            : 33797 \n",
      " \ttstart            : 53946.07\n",
      "\ttstop             : 53946.09\n",
      "\tduration          : 1689.00 s\n",
      "\tpointing (icrs)   : 330.3 deg, -30.2 deg\n",
      "\n",
      "\tdeadtime fraction : 7.2%\n",
      "Observation\n",
      "\n",
      "\tobs id            : 33798 \n",
      " \ttstart            : 53946.09\n",
      "\ttstop             : 53946.11\n",
      "\tduration          : 1689.00 s\n",
      "\tpointing (icrs)   : 329.7 deg, -30.7 deg\n",
      "\n",
      "\tdeadtime fraction : 6.9%\n",
      "Observation\n",
      "\n",
      "\tobs id            : 33799 \n",
      " \ttstart            : 53946.11\n",
      "\ttstop             : 53946.13\n",
      "\tduration          : 1689.00 s\n",
      "\tpointing (icrs)   : 329.7 deg, -29.7 deg\n",
      "\n",
      "\tdeadtime fraction : 6.4%\n",
      "Observation\n",
      "\n",
      "\tobs id            : 33800 \n",
      " \ttstart            : 53946.13\n",
      "\ttstop             : 53946.15\n",
      "\tduration          : 1689.00 s\n",
      "\tpointing (icrs)   : 329.1 deg, -30.2 deg\n",
      "\n",
      "\tdeadtime fraction : 5.8%\n",
      "Observation\n",
      "\n",
      "\tobs id            : 33801 \n",
      " \ttstart            : 53946.15\n",
      "\ttstop             : 53946.17\n",
      "\tduration          : 1689.00 s\n",
      "\tpointing (icrs)   : 330.3 deg, -30.2 deg\n",
      "\n",
      "\tdeadtime fraction : 5.3%\n",
      "Observation\n",
      "\n",
      "\tobs id            : 47802 \n",
      " \ttstart            : 54705.81\n",
      "\ttstop             : 54705.83\n",
      "\tduration          : 1688.00 s\n",
      "\tpointing (icrs)   : 330.3 deg, -30.2 deg\n",
      "\n",
      "\tdeadtime fraction : 6.8%\n",
      "Observation\n",
      "\n",
      "\tobs id            : 47803 \n",
      " \ttstart            : 54705.84\n",
      "\ttstop             : 54705.86\n",
      "\tduration          : 1688.00 s\n",
      "\tpointing (icrs)   : 329.1 deg, -30.2 deg\n",
      "\n",
      "\tdeadtime fraction : 7.2%\n",
      "Observation\n",
      "\n",
      "\tobs id            : 47804 \n",
      " \ttstart            : 54705.86\n",
      "\ttstop             : 54705.88\n",
      "\tduration          : 1689.00 s\n",
      "\tpointing (icrs)   : 329.7 deg, -29.7 deg\n",
      "\n",
      "\tdeadtime fraction : 7.6%\n",
      "Observation\n",
      "\n",
      "\tobs id            : 47827 \n",
      " \ttstart            : 54706.81\n",
      "\ttstop             : 54706.83\n",
      "\tduration          : 1688.00 s\n",
      "\tpointing (icrs)   : 330.3 deg, -30.2 deg\n",
      "\n",
      "\tdeadtime fraction : 6.7%\n",
      "Observation\n",
      "\n",
      "\tobs id            : 47828 \n",
      " \ttstart            : 54706.84\n",
      "\ttstop             : 54706.86\n",
      "\tduration          : 1687.00 s\n",
      "\tpointing (icrs)   : 329.1 deg, -30.2 deg\n",
      "\n",
      "\tdeadtime fraction : 7.4%\n",
      "Observation\n",
      "\n",
      "\tobs id            : 47829 \n",
      " \ttstart            : 54706.86\n",
      "\ttstop             : 54706.88\n",
      "\tduration          : 1688.00 s\n",
      "\tpointing (icrs)   : 329.7 deg, -30.7 deg\n",
      "\n",
      "\tdeadtime fraction : 7.6%\n",
      "\n"
     ]
    }
   ],
   "source": [
    "print(observations)"
   ]
  },
  {
   "cell_type": "code",
   "execution_count": 8,
   "metadata": {},
   "outputs": [],
   "source": [
    "obs = observations[0]"
   ]
  },
  {
   "cell_type": "code",
   "execution_count": 9,
   "metadata": {},
   "outputs": [
    {
     "data": {
      "image/png": "[encoded data removed]",
      "text/plain": [
       "<Figure size 864x576 with 5 Axes>"
      ]
     },
     "metadata": {
      "needs_background": "light"
     },
     "output_type": "display_data"
    }
   ],
   "source": [
    "obs.events.peek()"
   ]
  },
  {
   "cell_type": "markdown",
   "metadata": {},
   "source": [
    "## Preparing reduced datasets geometry\n",
    "\n",
    "Now we define the reconstructed and true energy axes: "
   ]
  },
  {
   "cell_type": "code",
   "execution_count": 10,
   "metadata": {},
   "outputs": [],
   "source": [
    "energy_axis = MapAxis.from_energy_bounds(\n",
    "    0.1, 40, nbin=10, per_decade=True, unit=\"TeV\", name=\"energy\"\n",
    ")\n",
    "energy_axis_true = MapAxis.from_energy_bounds(\n",
    "    0.05, 100, nbin=20, per_decade=True, unit=\"TeV\", name=\"energy_true\"\n",
    ")"
   ]
  },
  {
   "cell_type": "markdown",
   "metadata": {},
   "source": [
    "We then define a ON region to extract the spectrum, and create the analysis geometry using the `RegionGeom` object:"
   ]
  },
  {
   "cell_type": "code",
   "execution_count": 11,
   "metadata": {},
   "outputs": [],
   "source": [
    "on_region_radius = Angle(\"0.11 deg\")\n",
    "on_region = CircleSkyRegion(center=pos, radius=on_region_radius)\n",
    "\n",
    "geom = RegionGeom.create(region=on_region, axes=[energy_axis])"
   ]
  },
  {
   "cell_type": "markdown",
   "metadata": {},
   "source": [
    "Now we can define the target dataset with this geometry."
   ]
  },
  {
   "cell_type": "code",
   "execution_count": 12,
   "metadata": {},
   "outputs": [],
   "source": [
    "dataset_empty = SpectrumDataset.create(\n",
    "    geom=geom, energy_axis_true=energy_axis_true\n",
    ")"
   ]
  },
  {
   "cell_type": "markdown",
   "metadata": {},
   "source": [
    "## Create exclusion mask\n",
    "\n",
    "To perform the spectral analysis we must mask all the gamma ray emission in the analysis region, which would otherwise bias the background estimation. Here we are analyzing an extra-Galactic source, which is isolated and would not require a priori an exclusion mask. However, for illustration purpose, we choose a mask of 0.5 deg to the North of the blazar."
   ]
  },
  {
   "cell_type": "code",
   "execution_count": 13,
   "metadata": {},
   "outputs": [
    {
     "data": {
      "image/png": "[encoded data removed]",
      "text/plain": [
       "<Figure size 432x288 with 1 Axes>"
      ]
     },
     "metadata": {
      "needs_background": "light"
     },
     "output_type": "display_data"
    }
   ],
   "source": [
    "exclusion_region = CircleSkyRegion(\n",
    "    center=SkyCoord(329.71, -29.5, unit=\"deg\", frame=\"icrs\"),\n",
    "    radius=0.5 * u.deg,\n",
    ")\n",
    "\n",
    "skydir = pos.icrs\n",
    "geom = WcsGeom.create(width=5*u.deg, binsz=0.05, skydir=skydir, proj=\"TAN\", frame=\"icrs\"\n",
    ")\n",
    "\n",
    "exclusion_mask = ~geom.region_mask([exclusion_region])\n",
    "exclusion_mask.plot();"
   ]
  },
  {
   "cell_type": "markdown",
   "metadata": {},
   "source": [
    "## Data reduction\n",
    "\n",
    "### Create the maker classes to be used\n",
    "We first initialize the `Maker` objects that will take care of the data reduction."
   ]
  },
  {
   "cell_type": "markdown",
   "metadata": {},
   "source": [
    "In particular, for the definition of the OFF regions one can choose between 2 objects: \n",
    "- The `ReflectedRegionsFinder` :  Finds set of OFF counts in the observation, by rotating the ON region selected around the pointing position (https://docs.gammapy.org/0.20/tutorials/analysis/1D/spectral_analysis.html). \n",
    "- The `WobbleRegionsFinder` : Useful if you have energy dependent rad-max cuts (https://docs.gammapy.org/0.20/tutorials/analysis/1D/spectral_analysis_rad_max.html) or you want to have more control on your region selection\n",
    "\n",
    "Here, we show an example with the `WobbleRegionsFinder`."
   ]
  },
  {
   "cell_type": "code",
   "execution_count": 14,
   "metadata": {},
   "outputs": [],
   "source": [
    "dataset_maker = SpectrumDatasetMaker(\n",
    "    containment_correction=True, selection=[\"counts\", \"exposure\", \"edisp\"]\n",
    ")\n",
    "\n",
    "# tell the background maker to use the WobbleRegionsFinder, let us use 2 off\n",
    "region_finder = WobbleRegionsFinder(n_off_regions=2)\n",
    "bkg_maker = ReflectedRegionsBackgroundMaker(region_finder=region_finder)\n",
    "\n",
    "# use the energy threshold specified in the DL3 files\n",
    "safe_mask_masker = SafeMaskMaker(methods=[\"aeff-default\"])"
   ]
  },
  {
   "cell_type": "markdown",
   "metadata": {},
   "source": [
    "### Perform the data reduction loop"
   ]
  },
  {
   "cell_type": "markdown",
   "metadata": {},
   "source": [
    "For the moment the datasets are not stacked, but appended into a `Datasets` object (which basically contains a list of datasets). That's because we want to produce diagnostic plots such as the cumulative source significance as a function of the observation livetime. The stacking will be performed later on. "
   ]
  },
  {
   "cell_type": "code",
   "execution_count": 15,
   "metadata": {},
   "outputs": [
    {
     "name": "stdout",
     "output_type": "stream",
     "text": [
      "CPU times: user 7.24 s, sys: 86.6 ms, total: 7.33 s\n",
      "Wall time: 7.33 s\n"
     ]
    }
   ],
   "source": [
    "%%time\n",
    "\n",
    "datasets = Datasets()\n",
    "for observation in observations:\n",
    "    # First a spectrum dataset with the same geometry as the reference empty one is filled with the data and IRFs\n",
    "    dataset = dataset_maker.run(\n",
    "        dataset_empty.copy(name=observation.obs_id), observation)\n",
    "    # Reflected regions background estimation\n",
    "    dataset_on_off = bkg_maker.run(dataset, observation)\n",
    "    # The data quality cut is applied\n",
    "    dataset_on_off = safe_mask_masker.run(dataset_on_off, observation)\n",
    "    # The resulting dataset is appended to the list\n",
    "    datasets.append(dataset_on_off)"
   ]
  },
  {
   "cell_type": "code",
   "execution_count": 16,
   "metadata": {},
   "outputs": [
    {
     "data": {
      "image/png": "[encoded data removed]",
      "text/plain": [
       "<Figure size 432x288 with 1 Axes>"
      ]
     },
     "metadata": {
      "needs_background": "light"
     },
     "output_type": "display_data"
    }
   ],
   "source": [
    "ax = exclusion_mask.plot()\n",
    "plot_spectrum_datasets_off_regions(ax=ax, datasets=datasets)"
   ]
  },
  {
   "cell_type": "code",
   "execution_count": 17,
   "metadata": {},
   "outputs": [
    {
     "data": {
      "text/html": [
       "<div><i>Table length=21</i>\n",
       "<table id=\"table140418766357600\" class=\"table-striped table-bordered table-condensed\">\n",
       "<thead><tr><th>name</th><th>counts</th><th>excess</th><th>sqrt_ts</th><th>background</th><th>npred</th><th>npred_background</th><th>npred_signal</th><th>exposure_min</th><th>exposure_max</th><th>livetime</th><th>ontime</th><th>counts_rate</th><th>background_rate</th><th>excess_rate</th><th>n_bins</th><th>n_fit_bins</th><th>stat_type</th><th>stat_sum</th><th>counts_off</th><th>acceptance</th><th>acceptance_off</th><th>alpha</th></tr></thead>\n",
       "<thead><tr><th></th><th></th><th></th><th></th><th></th><th></th><th></th><th></th><th>m2 s</th><th>m2 s</th><th>s</th><th>s</th><th>1 / s</th><th>1 / s</th><th>1 / s</th><th></th><th></th><th></th><th></th><th></th><th></th><th></th><th></th></tr></thead>\n",
       "<thead><tr><th>str7</th><th>int64</th><th>float64</th><th>float64</th><th>float64</th><th>float64</th><th>float64</th><th>float64</th><th>float64</th><th>float64</th><th>float64</th><th>float64</th><th>float64</th><th>float64</th><th>float64</th><th>int64</th><th>int64</th><th>str5</th><th>float64</th><th>int64</th><th>float64</th><th>float64</th><th>float64</th></tr></thead>\n",
       "<tr><td>stacked</td><td>92</td><td>82.5</td><td>10.767284240561896</td><td>9.5</td><td>37.0</td><td>37.0</td><td>nan</td><td>2947135.25</td><td>938975104.0</td><td>1645.943673139438</td><td>1689.0</td><td>0.05589498687067532</td><td>0.005771764948602343</td><td>0.050123221922072976</td><td>27</td><td>16</td><td>wstat</td><td>124.76800428147962</td><td>19</td><td>16.0</td><td>32.0</td><td>0.5</td></tr>\n",
       "<tr><td>stacked</td><td>509</td><td>492.5</td><td>29.94129658755475</td><td>16.5</td><td>180.66666666666669</td><td>180.66666666666669</td><td>nan</td><td>3549789.5</td><td>1579164288.0</td><td>3242.045464714989</td><td>3378.0</td><td>0.15699964899929206</td><td>0.005089379584456422</td><td>0.15191026941483565</td><td>27</td><td>18</td><td>wstat</td><td>918.911068742291</td><td>33</td><td>18.0</td><td>36.0</td><td>0.5</td></tr>\n",
       "<tr><td>stacked</td><td>1321</td><td>1297.0</td><td>50.25435679615148</td><td>24.0</td><td>456.33333333333326</td><td>456.33333333333326</td><td>nan</td><td>38543.67578125</td><td>2112657920.0</td><td>4825.489054074511</td><td>5066.0</td><td>0.2737546360994403</td><td>0.004973589149422079</td><td>0.2687810469500182</td><td>27</td><td>19</td><td>wstat</td><td>2562.036379919156</td><td>48</td><td>19.0</td><td>38.0</td><td>0.5</td></tr>\n",
       "<tr><td>stacked</td><td>2206</td><td>2174.0</td><td>65.6963552880217</td><td>32.0</td><td>756.6666666666665</td><td>756.6666666666665</td><td>nan</td><td>163008.84375</td><td>2542220288.0</td><td>6386.866192122921</td><td>6756.0</td><td>0.3453963076165137</td><td>0.0050102818874562275</td><td>0.34038602572905746</td><td>27</td><td>20</td><td>wstat</td><td>4361.224431259612</td><td>64</td><td>20.0</td><td>40.0</td><td>0.5</td></tr>\n",
       "<tr><td>stacked</td><td>3158</td><td>3115.5</td><td>78.87293197387494</td><td>42.5</td><td>1081.0</td><td>1081.0</td><td>nan</td><td>511080.0</td><td>2910420224.0</td><td>7954.743777347729</td><td>8445.0</td><td>0.3969958163822771</td><td>0.005342723938013545</td><td>0.39165309244426355</td><td>27</td><td>21</td><td>wstat</td><td>6276.397263825995</td><td>85</td><td>21.0</td><td>42.0</td><td>0.5</td></tr>\n",
       "<tr><td>stacked</td><td>3932</td><td>3881.0</td><td>88.15091984637475</td><td>51.0</td><td>1344.6666666666667</td><td>1344.6666666666667</td><td>nan</td><td>3783955.25</td><td>3232583424.0</td><td>9517.102900041267</td><td>10133.0</td><td>0.4131509390302957</td><td>0.005358773624248495</td><td>0.4077921654060472</td><td>27</td><td>21</td><td>wstat</td><td>7836.385501603602</td><td>102</td><td>21.0</td><td>42.0</td><td>0.5</td></tr>\n",
       "<tr><td>...</td><td>...</td><td>...</td><td>...</td><td>...</td><td>...</td><td>...</td><td>...</td><td>...</td><td>...</td><td>...</td><td>...</td><td>...</td><td>...</td><td>...</td><td>...</td><td>...</td><td>...</td><td>...</td><td>...</td><td>...</td><td>...</td><td>...</td></tr>\n",
       "<tr><td>stacked</td><td>7759</td><td>7623.5</td><td>122.05956372095592</td><td>135.5</td><td>2676.6666666666665</td><td>2676.6666666666665</td><td>nan</td><td>45967708.0</td><td>7560448512.0</td><td>25258.837867734954</td><td>27021.0</td><td>0.30717961137519967</td><td>0.005364458994888459</td><td>0.3018151523803112</td><td>27</td><td>22</td><td>wstat</td><td>15042.248207141676</td><td>271</td><td>22.0</td><td>44.0</td><td>0.5</td></tr>\n",
       "<tr><td>stacked</td><td>7782</td><td>7639.5</td><td>121.92033898968084</td><td>142.5</td><td>2689.0000000000005</td><td>2689.0000000000005</td><td>nan</td><td>45967708.0</td><td>7999279104.0</td><td>26825.77484041266</td><td>28709.0</td><td>0.2900941369371566</td><td>0.0053120553217096906</td><td>0.2847820816154469</td><td>27</td><td>22</td><td>wstat</td><td>15004.436467064705</td><td>285</td><td>22.0</td><td>44.0</td><td>0.5</td></tr>\n",
       "<tr><td>stacked</td><td>7805</td><td>7655.0</td><td>121.76201530123392</td><td>150.0</td><td>2701.6666666666665</td><td>2701.6666666666665</td><td>nan</td><td>45967708.0</td><td>8379006464.0</td><td>28386.046524269506</td><td>30398.0</td><td>0.27495903641695507</td><td>0.0052842864141631335</td><td>0.26967475000279195</td><td>27</td><td>22</td><td>wstat</td><td>14964.072670991542</td><td>300</td><td>22.0</td><td>44.0</td><td>0.5</td></tr>\n",
       "<tr><td>stacked</td><td>7820</td><td>7661.0</td><td>121.46889847800789</td><td>159.0</td><td>2712.6666666666665</td><td>2712.6666666666665</td><td>nan</td><td>45967708.0</td><td>8899743744.0</td><td>29961.598039252684</td><td>32086.0</td><td>0.2610007647040395</td><td>0.005306793041936353</td><td>0.2556939716621031</td><td>27</td><td>22</td><td>wstat</td><td>14928.570313326845</td><td>318</td><td>22.0</td><td>44.0</td><td>0.5</td></tr>\n",
       "<tr><td>stacked</td><td>7840</td><td>7672.0</td><td>121.22620719392764</td><td>168.0</td><td>2725.3333333333335</td><td>2725.3333333333335</td><td>nan</td><td>45967708.0</td><td>9327729664.0</td><td>31524.026917969808</td><td>33773.0</td><td>0.24869919126769058</td><td>0.005329268384307656</td><td>0.24336992288338294</td><td>27</td><td>22</td><td>wstat</td><td>14879.621013695665</td><td>336</td><td>22.0</td><td>44.0</td><td>0.5</td></tr>\n",
       "<tr><td>stacked</td><td>7878</td><td>7702.0</td><td>121.1920477870948</td><td>176.0</td><td>2743.333333333333</td><td>2743.333333333333</td><td>nan</td><td>45967708.0</td><td>9700502528.0</td><td>33083.63409630023</td><td>35461.0</td><td>0.2381237797839447</td><td>0.005319850881184853</td><td>0.23280392890275983</td><td>27</td><td>22</td><td>wstat</td><td>14878.042748558766</td><td>352</td><td>22.0</td><td>44.0</td><td>0.5</td></tr>\n",
       "</table></div>"
      ],
      "text/plain": [
       "<Table length=21>\n",
       "  name  counts  excess      sqrt_ts       ... acceptance acceptance_off  alpha \n",
       "                                          ...                                  \n",
       "  str7  int64  float64      float64       ...  float64      float64     float64\n",
       "------- ------ ------- ------------------ ... ---------- -------------- -------\n",
       "stacked     92    82.5 10.767284240561896 ...       16.0           32.0     0.5\n",
       "stacked    509   492.5  29.94129658755475 ...       18.0           36.0     0.5\n",
       "stacked   1321  1297.0  50.25435679615148 ...       19.0           38.0     0.5\n",
       "stacked   2206  2174.0   65.6963552880217 ...       20.0           40.0     0.5\n",
       "stacked   3158  3115.5  78.87293197387494 ...       21.0           42.0     0.5\n",
       "stacked   3932  3881.0  88.15091984637475 ...       21.0           42.0     0.5\n",
       "    ...    ...     ...                ... ...        ...            ...     ...\n",
       "stacked   7759  7623.5 122.05956372095592 ...       22.0           44.0     0.5\n",
       "stacked   7782  7639.5 121.92033898968084 ...       22.0           44.0     0.5\n",
       "stacked   7805  7655.0 121.76201530123392 ...       22.0           44.0     0.5\n",
       "stacked   7820  7661.0 121.46889847800789 ...       22.0           44.0     0.5\n",
       "stacked   7840  7672.0 121.22620719392764 ...       22.0           44.0     0.5\n",
       "stacked   7878  7702.0  121.1920477870948 ...       22.0           44.0     0.5"
      ]
     },
     "execution_count": 17,
     "metadata": {},
     "output_type": "execute_result"
    }
   ],
   "source": [
    "info_table = datasets.info_table(cumulative=True)\n",
    "info_table"
   ]
  },
  {
   "cell_type": "code",
   "execution_count": 18,
   "metadata": {},
   "outputs": [
    {
     "data": {
      "image/png": "[encoded data removed]",
      "text/plain": [
       "<Figure size 720x720 with 2 Axes>"
      ]
     },
     "metadata": {
      "needs_background": "light"
     },
     "output_type": "display_data"
    }
   ],
   "source": [
    "plt.figure(figsize=(10, 10))\n",
    "ax1 = plt.subplot(221)\n",
    "ax1.plot(\n",
    "    info_table[\"livetime\"].to(\"h\"), info_table[\"excess\"], marker=\"o\", ls=\"none\"\n",
    ")\n",
    "ax1.set_xlabel(\"Livetime [h]\")\n",
    "ax1.set_ylabel(\"Excess\");\n",
    "\n",
    "\n",
    "ax2 = plt.subplot(222)\n",
    "ax2.plot(\n",
    "    info_table[\"livetime\"].to(\"h\"),\n",
    "    info_table[\"sqrt_ts\"],\n",
    "    marker=\"o\",\n",
    "    ls=\"none\",\n",
    ")\n",
    "ax2.set_xlabel(\"Livetime [h]\")\n",
    "ax2.set_ylabel(\"Sqrt(TS)\");\n"
   ]
  },
  {
   "cell_type": "markdown",
   "metadata": {},
   "source": [
    "Save the dataset to disc using `~gammapy.datasets.Datasets.write()` method:"
   ]
  },
  {
   "cell_type": "code",
   "execution_count": 19,
   "metadata": {},
   "outputs": [],
   "source": [
    "filename = \"pks-joint-dataset.fits.gz\"\n",
    "datasets.write(filename, overwrite=True)"
   ]
  },
  {
   "cell_type": "markdown",
   "metadata": {},
   "source": [
    "Before fitting we stack the `Datasets` into a single `SpectrumDatasetOnOff`:"
   ]
  },
  {
   "cell_type": "code",
   "execution_count": 20,
   "metadata": {},
   "outputs": [],
   "source": [
    "#create stacked\n",
    "stacked = datasets.stack_reduce()"
   ]
  },
  {
   "cell_type": "code",
   "execution_count": 21,
   "metadata": {},
   "outputs": [
    {
     "name": "stdout",
     "output_type": "stream",
     "text": [
      "SpectrumDatasetOnOff\n",
      "--------------------\n",
      "\n",
      "  Name                            : peb1dsKd \n",
      "\n",
      "  Total counts                    : 7878 \n",
      "  Total background counts         : 176.00\n",
      "  Total excess counts             : 7702.00\n",
      "\n",
      "  Predicted counts                : 2743.33\n",
      "  Predicted background counts     : 2743.33\n",
      "  Predicted excess counts         : nan\n",
      "\n",
      "  Exposure min                    : 4.60e+07 m2 s\n",
      "  Exposure max                    : 9.70e+09 m2 s\n",
      "\n",
      "  Number of total bins            : 27 \n",
      "  Number of fit bins              : 22 \n",
      "\n",
      "  Fit statistic type              : wstat\n",
      "  Fit statistic value (-2 log(L)) : 14878.04\n",
      "\n",
      "  Number of models                : 0 \n",
      "  Number of parameters            : 0\n",
      "  Number of free parameters       : 0\n",
      "\n",
      "  Total counts_off                : 352 \n",
      "  Acceptance                      : 27 \n",
      "  Acceptance off                  : 54 \n",
      "\n"
     ]
    }
   ],
   "source": [
    "print(stacked)"
   ]
  },
  {
   "cell_type": "code",
   "execution_count": 22,
   "metadata": {},
   "outputs": [
    {
     "data": {
      "image/png": "[encoded data removed]",
      "text/plain": [
       "<Figure size 1152x288 with 4 Axes>"
      ]
     },
     "metadata": {
      "needs_background": "light"
     },
     "output_type": "display_data"
    }
   ],
   "source": [
    "stacked.peek()"
   ]
  },
  {
   "cell_type": "markdown",
   "metadata": {},
   "source": [
    "## Data Fitting\n",
    "\n",
    "In this section we fit a spectral model to the data. We can try to answer the following questions:\n",
    "- What is the significance of the detected source?\n",
    "- What is the best spectral shape to describe the spectrum of the source? \n",
    "\n",
    "In particular, we can use the [likelihood ratio test](https://en.wikipedia.org/wiki/Likelihood-ratio_test) to compare three different hypotheses:\n",
    "- H0: Background only (no source)\n",
    "- H1: Background + source described by a power law model\n",
    "- H2: Background + source described by a power law model with exponential cutoff"
   ]
  },
  {
   "cell_type": "markdown",
   "metadata": {},
   "source": [
    "### **H0**"
   ]
  },
  {
   "cell_type": "markdown",
   "metadata": {},
   "source": [
    "The value of the quantity $-2\\ln\\mathcal(L)$ for the background-only model (null hypothesis) can be simply computed as"
   ]
  },
  {
   "cell_type": "code",
   "execution_count": 23,
   "metadata": {},
   "outputs": [
    {
     "name": "stdout",
     "output_type": "stream",
     "text": [
      "14878.042748558766\n"
     ]
    }
   ],
   "source": [
    "Wstat_0 = stacked.stat_sum()\n",
    "print(Wstat_0)"
   ]
  },
  {
   "cell_type": "markdown",
   "metadata": {},
   "source": [
    "Since the background has been estimated using the reflected regions method, here $-2\\ln\\mathcal(L)$ corresponds to the so-called [Wstat](https://docs.gammapy.org/0.20/stats/fit_statistics.html#wstat) fit statistic."
   ]
  },
  {
   "cell_type": "markdown",
   "metadata": {},
   "source": [
    "We can inspect the model residuals for the H0 hypothesis:"
   ]
  },
  {
   "cell_type": "code",
   "execution_count": 24,
   "metadata": {},
   "outputs": [
    {
     "data": {
      "text/plain": [
       "<AxesSubplot:xlabel='Energy [TeV]', ylabel='Residuals (data - model)'>"
      ]
     },
     "execution_count": 24,
     "metadata": {},
     "output_type": "execute_result"
    },
    {
     "data": {
      "image/png": "[encoded data removed]",
      "text/plain": [
       "<Figure size 432x288 with 1 Axes>"
      ]
     },
     "metadata": {
      "needs_background": "light"
     },
     "output_type": "display_data"
    }
   ],
   "source": [
    "stacked.plot_residuals_spectral()"
   ]
  },
  {
   "cell_type": "markdown",
   "metadata": {},
   "source": [
    "As expected, the residuals show a clear positive feature indicating that a source is missing in the model. "
   ]
  },
  {
   "cell_type": "markdown",
   "metadata": {},
   "source": [
    "## **H1**\n",
    "We now add a source defined by a power law spectrum to the model.\n",
    "\n",
    "Here we also consider EBL absorption (see: https://docs.gammapy.org/0.20/modeling/gallery/spectral/plot_absorbed.html?highlight=ebl)."
   ]
  },
  {
   "cell_type": "code",
   "execution_count": 25,
   "metadata": {},
   "outputs": [],
   "source": [
    "spectral_model_pl = PowerLawSpectralModel()\n",
    "redshift = 0.116\n",
    "ebl = EBLAbsorptionNormSpectralModel.read_builtin(\"dominguez\", redshift=redshift)\n",
    "spectral_model_1 = spectral_model_pl * ebl\n",
    "\n",
    "pks_model_1 = SkyModel(spectral_model=spectral_model_1,\n",
    "                    name=\"pks_model\")"
   ]
  },
  {
   "cell_type": "code",
   "execution_count": 26,
   "metadata": {},
   "outputs": [
    {
     "data": {
      "text/html": [
       "<div><i>Table length=5</i>\n",
       "<table id=\"table140418514280208\" class=\"table-striped table-bordered table-condensed\">\n",
       "<thead><tr><th>type</th><th>name</th><th>value</th><th>unit</th><th>error</th><th>min</th><th>max</th><th>frozen</th><th>is_norm</th><th>link</th></tr></thead>\n",
       "<thead><tr><th>str8</th><th>str10</th><th>float64</th><th>str14</th><th>int64</th><th>float64</th><th>float64</th><th>bool</th><th>bool</th><th>str1</th></tr></thead>\n",
       "<tr><td>spectral</td><td>index</td><td>2.0000e+00</td><td></td><td>0.000e+00</td><td>nan</td><td>nan</td><td>False</td><td>False</td><td></td></tr>\n",
       "<tr><td>spectral</td><td>amplitude</td><td>1.0000e-12</td><td>cm-2 s-1 TeV-1</td><td>0.000e+00</td><td>nan</td><td>nan</td><td>False</td><td>True</td><td></td></tr>\n",
       "<tr><td>spectral</td><td>reference</td><td>1.0000e+00</td><td>TeV</td><td>0.000e+00</td><td>nan</td><td>nan</td><td>True</td><td>False</td><td></td></tr>\n",
       "<tr><td>spectral</td><td>alpha_norm</td><td>1.0000e+00</td><td></td><td>0.000e+00</td><td>nan</td><td>nan</td><td>True</td><td>False</td><td></td></tr>\n",
       "<tr><td>spectral</td><td>redshift</td><td>1.1600e-01</td><td></td><td>0.000e+00</td><td>nan</td><td>nan</td><td>True</td><td>False</td><td></td></tr>\n",
       "</table></div>"
      ],
      "text/plain": [
       "<Table length=5>\n",
       "  type      name      value         unit      ...   max   frozen is_norm link\n",
       "  str8     str10     float64       str14      ... float64  bool    bool  str1\n",
       "-------- ---------- ---------- -------------- ... ------- ------ ------- ----\n",
       "spectral      index 2.0000e+00                ...     nan  False   False     \n",
       "spectral  amplitude 1.0000e-12 cm-2 s-1 TeV-1 ...     nan  False    True     \n",
       "spectral  reference 1.0000e+00            TeV ...     nan   True   False     \n",
       "spectral alpha_norm 1.0000e+00                ...     nan   True   False     \n",
       "spectral   redshift 1.1600e-01                ...     nan   True   False     "
      ]
     },
     "execution_count": 26,
     "metadata": {},
     "output_type": "execute_result"
    }
   ],
   "source": [
    "pks_model_1.parameters.to_table()"
   ]
  },
  {
   "cell_type": "code",
   "execution_count": 27,
   "metadata": {},
   "outputs": [],
   "source": [
    "stacked.models = [pks_model_1]"
   ]
  },
  {
   "cell_type": "code",
   "execution_count": 28,
   "metadata": {},
   "outputs": [
    {
     "name": "stdout",
     "output_type": "stream",
     "text": [
      "CPU times: user 995 ms, sys: 376 µs, total: 996 ms\n",
      "Wall time: 990 ms\n"
     ]
    }
   ],
   "source": [
    "%%time\n",
    "fit1 = Fit(optimize_opts={\"print_level\": 1})\n",
    "result1 = fit1.run(datasets=[stacked])"
   ]
  },
  {
   "cell_type": "code",
   "execution_count": 29,
   "metadata": {},
   "outputs": [
    {
     "data": {
      "text/plain": [
       "True"
      ]
     },
     "execution_count": 29,
     "metadata": {},
     "output_type": "execute_result"
    }
   ],
   "source": [
    "result1.success"
   ]
  },
  {
   "cell_type": "code",
   "execution_count": 30,
   "metadata": {},
   "outputs": [
    {
     "data": {
      "text/html": [
       "<div><i>Table length=5</i>\n",
       "<table id=\"table140418514278912\" class=\"table-striped table-bordered table-condensed\">\n",
       "<thead><tr><th>model</th><th>type</th><th>name</th><th>value</th><th>unit</th><th>error</th><th>min</th><th>max</th><th>frozen</th><th>is_norm</th><th>link</th></tr></thead>\n",
       "<thead><tr><th>str9</th><th>str8</th><th>str10</th><th>float64</th><th>str14</th><th>float64</th><th>float64</th><th>float64</th><th>bool</th><th>bool</th><th>str1</th></tr></thead>\n",
       "<tr><td>pks_model</td><td>spectral</td><td>index</td><td>2.8450e+00</td><td></td><td>2.314e-02</td><td>nan</td><td>nan</td><td>False</td><td>False</td><td></td></tr>\n",
       "<tr><td>pks_model</td><td>spectral</td><td>amplitude</td><td>1.9273e-10</td><td>cm-2 s-1 TeV-1</td><td>3.337e-12</td><td>nan</td><td>nan</td><td>False</td><td>True</td><td></td></tr>\n",
       "<tr><td>pks_model</td><td>spectral</td><td>reference</td><td>1.0000e+00</td><td>TeV</td><td>0.000e+00</td><td>nan</td><td>nan</td><td>True</td><td>False</td><td></td></tr>\n",
       "<tr><td>pks_model</td><td>spectral</td><td>alpha_norm</td><td>1.0000e+00</td><td></td><td>0.000e+00</td><td>nan</td><td>nan</td><td>True</td><td>False</td><td></td></tr>\n",
       "<tr><td>pks_model</td><td>spectral</td><td>redshift</td><td>1.1600e-01</td><td></td><td>0.000e+00</td><td>nan</td><td>nan</td><td>True</td><td>False</td><td></td></tr>\n",
       "</table></div>"
      ],
      "text/plain": [
       "<Table length=5>\n",
       "  model     type      name      value    ...   max   frozen is_norm link\n",
       "   str9     str8     str10     float64   ... float64  bool    bool  str1\n",
       "--------- -------- ---------- ---------- ... ------- ------ ------- ----\n",
       "pks_model spectral      index 2.8450e+00 ...     nan  False   False     \n",
       "pks_model spectral  amplitude 1.9273e-10 ...     nan  False    True     \n",
       "pks_model spectral  reference 1.0000e+00 ...     nan   True   False     \n",
       "pks_model spectral alpha_norm 1.0000e+00 ...     nan   True   False     \n",
       "pks_model spectral   redshift 1.1600e-01 ...     nan   True   False     "
      ]
     },
     "execution_count": 30,
     "metadata": {},
     "output_type": "execute_result"
    }
   ],
   "source": [
    "result1.models.to_parameters_table()"
   ]
  },
  {
   "cell_type": "code",
   "execution_count": 31,
   "metadata": {},
   "outputs": [
    {
     "name": "stdout",
     "output_type": "stream",
     "text": [
      "delta TS of detection:  14725.614615387016 p-value:  0.0\n"
     ]
    }
   ],
   "source": [
    "Wstat_1 = result1.total_stat\n",
    "print(\"delta TS of detection: \", (Wstat_0-Wstat_1), \"p-value: \", chi2.sf((Wstat_0-Wstat_1), 2))"
   ]
  },
  {
   "cell_type": "code",
   "execution_count": 32,
   "metadata": {},
   "outputs": [
    {
     "data": {
      "image/png": "[encoded data removed]",
      "text/plain": [
       "<Figure size 576x504 with 2 Axes>"
      ]
     },
     "metadata": {
      "needs_background": "light"
     },
     "output_type": "display_data"
    }
   ],
   "source": [
    "ax_spectrum, ax_residuals = stacked.plot_fit()"
   ]
  },
  {
   "cell_type": "markdown",
   "metadata": {},
   "source": [
    "We can compute flux points for the H0 model assumption."
   ]
  },
  {
   "cell_type": "code",
   "execution_count": 35,
   "metadata": {},
   "outputs": [],
   "source": [
    "energy_edges = np.logspace(-1, 1.6, 12)*u.TeV\n",
    "fpe = FluxPointsEstimator(energy_edges=energy_edges, source=pks_model_1.name, selection_optional=[\"ul\"])"
   ]
  },
  {
   "cell_type": "markdown",
   "metadata": {},
   "source": [
    "In the next cell we activate the progress bar functionality, which can be helpful for time-consuming tasks."
   ]
  },
  {
   "cell_type": "code",
   "execution_count": 51,
   "metadata": {},
   "outputs": [],
   "source": [
    "from gammapy.utils import pbar\n",
    "pbar.SHOW_PROGRESS_BAR = True"
   ]
  },
  {
   "cell_type": "code",
   "execution_count": 52,
   "metadata": {},
   "outputs": [
    {
     "data": {
      "application/vnd.jupyter.widget-view+json": {
       "model_id": "30cdebb0e9094905bc1e6d4521353429",
       "version_major": 2,
       "version_minor": 0
      },
      "text/plain": [
       "Energy bins:   0%|          | 0/11 [00:00<?, ?it/s]"
      ]
     },
     "metadata": {},
     "output_type": "display_data"
    },
    {
     "name": "stdout",
     "output_type": "stream",
     "text": [
      "CPU times: user 4.16 s, sys: 11 ms, total: 4.17 s\n",
      "Wall time: 4.15 s\n"
     ]
    }
   ],
   "source": [
    "%%time\n",
    "flux_points = fpe.run(datasets=[stacked])"
   ]
  },
  {
   "cell_type": "code",
   "execution_count": 37,
   "metadata": {},
   "outputs": [
    {
     "data": {
      "text/plain": [
       "<matplotlib.legend.Legend at 0x7fb5badd6520>"
      ]
     },
     "execution_count": 37,
     "metadata": {},
     "output_type": "execute_result"
    },
    {
     "data": {
      "image/png": "[encoded data removed]",
      "text/plain": [
       "<Figure size 432x288 with 1 Axes>"
      ]
     },
     "metadata": {
      "needs_background": "light"
     },
     "output_type": "display_data"
    }
   ],
   "source": [
    "ax = spectral_model_pl.plot(energy_bounds=[0.1,20]*u.TeV, sed_type=\"e2dnde\", label=\"intrinsic\", color=\"blue\")\n",
    "spectral_model_1.plot(ax=ax, energy_bounds=[0.1,20]*u.TeV, sed_type=\"e2dnde\", label=\"absorbed\", color=\"red\")\n",
    "spectral_model_1.plot_error(ax=ax, energy_bounds=[0.1,20]*u.TeV, sed_type=\"e2dnde\", facecolor=\"red\")\n",
    "flux_points.plot(ax=ax, sed_type=\"e2dnde\")\n",
    "plt.legend()"
   ]
  },
  {
   "cell_type": "code",
   "execution_count": 38,
   "metadata": {},
   "outputs": [
    {
     "data": {
      "text/plain": [
       "{'spectral': {'type': 'CompoundSpectralModel',\n",
       "  'model1': {'type': 'PowerLawSpectralModel',\n",
       "   'parameters': [{'name': 'index',\n",
       "     'value': 2.844965460999378,\n",
       "     'error': 0.023140969115219512,\n",
       "     'is_norm': False},\n",
       "    {'name': 'amplitude',\n",
       "     'value': 1.9272906858363863e-10,\n",
       "     'unit': 'cm-2 s-1 TeV-1',\n",
       "     'error': 3.3373512432051802e-12,\n",
       "     'is_norm': True},\n",
       "    {'name': 'reference',\n",
       "     'value': 1.0,\n",
       "     'unit': 'TeV',\n",
       "     'frozen': True,\n",
       "     'is_norm': False}]},\n",
       "  'model2': {'type': 'EBLAbsorptionNormSpectralModel',\n",
       "   'parameters': [{'name': 'alpha_norm',\n",
       "     'value': 1.0,\n",
       "     'frozen': True,\n",
       "     'is_norm': False},\n",
       "    {'name': 'redshift',\n",
       "     'value': 0.11599999999999999,\n",
       "     'frozen': True,\n",
       "     'is_norm': False}],\n",
       "   'filename': '/home/lucagiunti/gammapy-datasets/ebl/ebl_dominguez11.fits.gz'},\n",
       "  'operator': 'mul'}}"
      ]
     },
     "execution_count": 38,
     "metadata": {},
     "output_type": "execute_result"
    }
   ],
   "source": [
    "spectral_model_1.to_dict()"
   ]
  },
  {
   "cell_type": "markdown",
   "metadata": {},
   "source": [
    "## **H2**\n",
    "\n",
    "We now estimate the significance for the presence of an exponential cutoff in the source spectrum, again taking into account the EBL absorption."
   ]
  },
  {
   "cell_type": "code",
   "execution_count": 39,
   "metadata": {},
   "outputs": [],
   "source": [
    "spectral_model_ecpl = ExpCutoffPowerLawSpectralModel()\n",
    "redshift = 0.116\n",
    "spectral_model_2 = spectral_model_ecpl * ebl\n",
    "\n",
    "pks_model_2 = SkyModel(spectral_model=spectral_model_2,\n",
    "                    name=\"pks_model\")"
   ]
  },
  {
   "cell_type": "code",
   "execution_count": 40,
   "metadata": {},
   "outputs": [
    {
     "data": {
      "text/html": [
       "<div><i>Table length=7</i>\n",
       "<table id=\"table140418488674096\" class=\"table-striped table-bordered table-condensed\">\n",
       "<thead><tr><th>type</th><th>name</th><th>value</th><th>unit</th><th>error</th><th>min</th><th>max</th><th>frozen</th><th>is_norm</th><th>link</th></tr></thead>\n",
       "<thead><tr><th>str8</th><th>str10</th><th>float64</th><th>str14</th><th>float64</th><th>float64</th><th>float64</th><th>bool</th><th>bool</th><th>str1</th></tr></thead>\n",
       "<tr><td>spectral</td><td>index</td><td>1.5000e+00</td><td></td><td>0.000e+00</td><td>nan</td><td>nan</td><td>False</td><td>False</td><td></td></tr>\n",
       "<tr><td>spectral</td><td>amplitude</td><td>1.0000e-12</td><td>cm-2 s-1 TeV-1</td><td>0.000e+00</td><td>nan</td><td>nan</td><td>False</td><td>True</td><td></td></tr>\n",
       "<tr><td>spectral</td><td>reference</td><td>1.0000e+00</td><td>TeV</td><td>0.000e+00</td><td>nan</td><td>nan</td><td>True</td><td>False</td><td></td></tr>\n",
       "<tr><td>spectral</td><td>lambda_</td><td>1.0000e-01</td><td>TeV-1</td><td>0.000e+00</td><td>nan</td><td>nan</td><td>False</td><td>False</td><td></td></tr>\n",
       "<tr><td>spectral</td><td>alpha</td><td>1.0000e+00</td><td></td><td>0.000e+00</td><td>nan</td><td>nan</td><td>True</td><td>False</td><td></td></tr>\n",
       "<tr><td>spectral</td><td>alpha_norm</td><td>1.0000e+00</td><td></td><td>0.000e+00</td><td>nan</td><td>nan</td><td>True</td><td>False</td><td></td></tr>\n",
       "<tr><td>spectral</td><td>redshift</td><td>1.1600e-01</td><td></td><td>0.000e+00</td><td>nan</td><td>nan</td><td>True</td><td>False</td><td></td></tr>\n",
       "</table></div>"
      ],
      "text/plain": [
       "<Table length=7>\n",
       "  type      name      value         unit      ...   max   frozen is_norm link\n",
       "  str8     str10     float64       str14      ... float64  bool    bool  str1\n",
       "-------- ---------- ---------- -------------- ... ------- ------ ------- ----\n",
       "spectral      index 1.5000e+00                ...     nan  False   False     \n",
       "spectral  amplitude 1.0000e-12 cm-2 s-1 TeV-1 ...     nan  False    True     \n",
       "spectral  reference 1.0000e+00            TeV ...     nan   True   False     \n",
       "spectral    lambda_ 1.0000e-01          TeV-1 ...     nan  False   False     \n",
       "spectral      alpha 1.0000e+00                ...     nan   True   False     \n",
       "spectral alpha_norm 1.0000e+00                ...     nan   True   False     \n",
       "spectral   redshift 1.1600e-01                ...     nan   True   False     "
      ]
     },
     "execution_count": 40,
     "metadata": {},
     "output_type": "execute_result"
    }
   ],
   "source": [
    "pks_model_2.parameters.to_table()"
   ]
  },
  {
   "cell_type": "code",
   "execution_count": 41,
   "metadata": {},
   "outputs": [],
   "source": [
    "stacked.models = [pks_model_2]"
   ]
  },
  {
   "cell_type": "code",
   "execution_count": 42,
   "metadata": {},
   "outputs": [
    {
     "name": "stderr",
     "output_type": "stream",
     "text": [
      "/home/lucagiunti/miniconda3/envs/gammapy-0.20/lib/python3.8/site-packages/numpy/core/fromnumeric.py:86: RuntimeWarning: overflow encountered in reduce\n",
      "  return ufunc.reduce(obj, axis, dtype, out, **passkwargs)\n"
     ]
    },
    {
     "name": "stdout",
     "output_type": "stream",
     "text": [
      "CPU times: user 1.69 s, sys: 8.22 ms, total: 1.69 s\n",
      "Wall time: 1.69 s\n"
     ]
    }
   ],
   "source": [
    "%%time\n",
    "fit2 = Fit(optimize_opts={\"print_level\": 1})\n",
    "result2 = fit2.run(datasets=[stacked])"
   ]
  },
  {
   "cell_type": "code",
   "execution_count": 43,
   "metadata": {},
   "outputs": [
    {
     "data": {
      "text/plain": [
       "True"
      ]
     },
     "execution_count": 43,
     "metadata": {},
     "output_type": "execute_result"
    }
   ],
   "source": [
    "result2.success"
   ]
  },
  {
   "cell_type": "code",
   "execution_count": 44,
   "metadata": {},
   "outputs": [
    {
     "data": {
      "text/html": [
       "<div><i>Table length=7</i>\n",
       "<table id=\"table140418488595408\" class=\"table-striped table-bordered table-condensed\">\n",
       "<thead><tr><th>model</th><th>type</th><th>name</th><th>value</th><th>unit</th><th>error</th><th>min</th><th>max</th><th>frozen</th><th>is_norm</th><th>link</th></tr></thead>\n",
       "<thead><tr><th>str9</th><th>str8</th><th>str10</th><th>float64</th><th>str14</th><th>float64</th><th>float64</th><th>float64</th><th>bool</th><th>bool</th><th>str1</th></tr></thead>\n",
       "<tr><td>pks_model</td><td>spectral</td><td>index</td><td>2.4672e+00</td><td></td><td>7.194e-02</td><td>nan</td><td>nan</td><td>False</td><td>False</td><td></td></tr>\n",
       "<tr><td>pks_model</td><td>spectral</td><td>amplitude</td><td>3.1725e-10</td><td>cm-2 s-1 TeV-1</td><td>2.958e-11</td><td>nan</td><td>nan</td><td>False</td><td>True</td><td></td></tr>\n",
       "<tr><td>pks_model</td><td>spectral</td><td>reference</td><td>1.0000e+00</td><td>TeV</td><td>0.000e+00</td><td>nan</td><td>nan</td><td>True</td><td>False</td><td></td></tr>\n",
       "<tr><td>pks_model</td><td>spectral</td><td>lambda_</td><td>4.2249e-01</td><td>TeV-1</td><td>8.051e-02</td><td>nan</td><td>nan</td><td>False</td><td>False</td><td></td></tr>\n",
       "<tr><td>pks_model</td><td>spectral</td><td>alpha</td><td>1.0000e+00</td><td></td><td>0.000e+00</td><td>nan</td><td>nan</td><td>True</td><td>False</td><td></td></tr>\n",
       "<tr><td>pks_model</td><td>spectral</td><td>alpha_norm</td><td>1.0000e+00</td><td></td><td>0.000e+00</td><td>nan</td><td>nan</td><td>True</td><td>False</td><td></td></tr>\n",
       "<tr><td>pks_model</td><td>spectral</td><td>redshift</td><td>1.1600e-01</td><td></td><td>0.000e+00</td><td>nan</td><td>nan</td><td>True</td><td>False</td><td></td></tr>\n",
       "</table></div>"
      ],
      "text/plain": [
       "<Table length=7>\n",
       "  model     type      name      value    ...   max   frozen is_norm link\n",
       "   str9     str8     str10     float64   ... float64  bool    bool  str1\n",
       "--------- -------- ---------- ---------- ... ------- ------ ------- ----\n",
       "pks_model spectral      index 2.4672e+00 ...     nan  False   False     \n",
       "pks_model spectral  amplitude 3.1725e-10 ...     nan  False    True     \n",
       "pks_model spectral  reference 1.0000e+00 ...     nan   True   False     \n",
       "pks_model spectral    lambda_ 4.2249e-01 ...     nan  False   False     \n",
       "pks_model spectral      alpha 1.0000e+00 ...     nan   True   False     \n",
       "pks_model spectral alpha_norm 1.0000e+00 ...     nan   True   False     \n",
       "pks_model spectral   redshift 1.1600e-01 ...     nan   True   False     "
      ]
     },
     "execution_count": 44,
     "metadata": {},
     "output_type": "execute_result"
    }
   ],
   "source": [
    "result2.models.to_parameters_table()"
   ]
  },
  {
   "cell_type": "code",
   "execution_count": 45,
   "metadata": {},
   "outputs": [
    {
     "name": "stdout",
     "output_type": "stream",
     "text": [
      "delta TS of detection:  37.873649778944625 p-value:  7.5477831507168e-10\n"
     ]
    }
   ],
   "source": [
    "Wstat_2 = result2.total_stat\n",
    "print(\"delta TS of detection: \", (Wstat_1-Wstat_2), \"p-value: \", chi2.sf((Wstat_1-Wstat_2), 1))"
   ]
  },
  {
   "cell_type": "markdown",
   "metadata": {},
   "source": [
    "We have successfully detected a cutoff in the observed spectrum."
   ]
  },
  {
   "cell_type": "code",
   "execution_count": 46,
   "metadata": {},
   "outputs": [
    {
     "data": {
      "image/png": "[encoded data removed]",
      "text/plain": [
       "<Figure size 576x504 with 2 Axes>"
      ]
     },
     "metadata": {
      "needs_background": "light"
     },
     "output_type": "display_data"
    }
   ],
   "source": [
    "ax_spectrum, ax_residuals = stacked.plot_fit()"
   ]
  },
  {
   "cell_type": "markdown",
   "metadata": {},
   "source": [
    "To check that the fit has coverged correctly, it is always a good idea to inspect the likelihood profile for the free model parameters."
   ]
  },
  {
   "cell_type": "code",
   "execution_count": 47,
   "metadata": {},
   "outputs": [
    {
     "data": {
      "image/png": "[encoded data removed]",
      "text/plain": [
       "<Figure size 1008x288 with 3 Axes>"
      ]
     },
     "metadata": {
      "needs_background": "light"
     },
     "output_type": "display_data"
    }
   ],
   "source": [
    "total_stat = result2.total_stat\n",
    "\n",
    "fig, axes = plt.subplots(nrows=1, ncols=3, figsize=(14, 4))\n",
    "\n",
    "for ax, par in zip(axes, pks_model_2.parameters.free_parameters):\n",
    "    par.scan_n_values = 17\n",
    "\n",
    "    profile = fit2.stat_profile(datasets=[stacked], parameter=par)\n",
    "    ax.plot(profile[f\"{par.name}_scan\"], profile[\"stat_scan\"] - total_stat)\n",
    "    ax.set_xlabel(f\"{par.unit}\")\n",
    "    ax.set_ylabel(\"Delta TS\")\n",
    "    ax.set_title(f\"{par.name}: {par.value:.1e} +- {par.error:.1e}\")"
   ]
  },
  {
   "cell_type": "markdown",
   "metadata": {},
   "source": [
    "We now compute the flux points for the H2 hypothesis."
   ]
  },
  {
   "cell_type": "code",
   "execution_count": 48,
   "metadata": {},
   "outputs": [
    {
     "name": "stdout",
     "output_type": "stream",
     "text": [
      "CPU times: user 3.95 s, sys: 7.35 ms, total: 3.96 s\n",
      "Wall time: 3.95 s\n"
     ]
    }
   ],
   "source": [
    "%%time\n",
    "flux_points = fpe.run(datasets=[stacked])"
   ]
  },
  {
   "cell_type": "code",
   "execution_count": 49,
   "metadata": {},
   "outputs": [
    {
     "data": {
      "text/plain": [
       "<matplotlib.legend.Legend at 0x7fb5b9da41c0>"
      ]
     },
     "execution_count": 49,
     "metadata": {},
     "output_type": "execute_result"
    },
    {
     "data": {
      "image/png": "[encoded data removed]",
      "text/plain": [
       "<Figure size 432x288 with 1 Axes>"
      ]
     },
     "metadata": {
      "needs_background": "light"
     },
     "output_type": "display_data"
    }
   ],
   "source": [
    "ax = spectral_model_ecpl.plot(energy_bounds=[0.1,20]*u.TeV, sed_type=\"e2dnde\", label=\"intrinsic\", color=\"blue\")\n",
    "spectral_model_2.plot(ax=ax, energy_bounds=[0.1,20]*u.TeV, sed_type=\"e2dnde\", label=\"absorbed\", color=\"red\")\n",
    "spectral_model_2.plot_error(ax=ax, energy_bounds=[0.1,20]*u.TeV, sed_type=\"e2dnde\", facecolor=\"red\")\n",
    "flux_points.plot(ax=ax, sed_type=\"e2dnde\")\n",
    "plt.legend()"
   ]
  },
  {
   "cell_type": "code",
   "execution_count": 50,
   "metadata": {},
   "outputs": [
    {
     "data": {
      "text/html": [
       "<div><i>Table length=11</i>\n",
       "<table id=\"table140418513523568\" class=\"table-striped table-bordered table-condensed\">\n",
       "<thead><tr><th>e_ref</th><th>e_min</th><th>e_max</th><th>ref_dnde</th><th>ref_flux</th><th>ref_eflux</th><th>norm</th><th>norm_err</th><th>norm_ul</th><th>ts</th><th>sqrt_ts</th><th>npred [1]</th><th>npred_excess [1]</th><th>stat</th><th>is_ul</th><th>counts [1]</th><th>success</th></tr></thead>\n",
       "<thead><tr><th>TeV</th><th>TeV</th><th>TeV</th><th>1 / (cm2 s TeV)</th><th>1 / (cm2 s)</th><th>TeV / (cm2 s)</th><th></th><th></th><th></th><th></th><th></th><th></th><th></th><th></th><th></th><th></th><th></th></tr></thead>\n",
       "<thead><tr><th>float64</th><th>float64</th><th>float64</th><th>float64</th><th>float64</th><th>float64</th><th>float64</th><th>float64</th><th>float64</th><th>float64</th><th>float64</th><th>float64</th><th>float32</th><th>float64</th><th>bool</th><th>float64</th><th>bool</th></tr></thead>\n",
       "<tr><td>0.12484541354466076</td><td>0.10000000000000002</td><td>0.1558637728313736</td><td>4.90719291070116e-08</td><td>2.7712499814165102e-09</td><td>3.3976467416060003e-10</td><td>nan</td><td>nan</td><td>nan</td><td>nan</td><td>nan</td><td>nan</td><td>0.0</td><td>0.0</td><td>False</td><td>0.0</td><td>False</td></tr>\n",
       "<tr><td>0.21742229366110305</td><td>0.1558637728313736</td><td>0.3032934011676863</td><td>1.0897135426340852e-08</td><td>1.6595606843894175e-09</td><td>3.4358457090135013e-10</td><td>nan</td><td>nan</td><td>nan</td><td>nan</td><td>nan</td><td>nan</td><td>0.0</td><td>0.0</td><td>False</td><td>0.0</td><td>False</td></tr>\n",
       "<tr><td>0.37864790094146483</td><td>0.3032934011676863</td><td>0.47272453780854895</td><td>2.00160610581563e-09</td><td>3.483068755085378e-10</td><td>1.2814356408987775e-10</td><td>1.089268290947399</td><td>0.022749679625224464</td><td>1.1353876861011694</td><td>4656.753390397591</td><td>68.24040877953173</td><td>2369.101755686411</td><td>2338.1553</td><td>23.44478520939083</td><td>False</td><td>2369.0</td><td>True</td></tr>\n",
       "<tr><td>0.6594274693415539</td><td>0.47272453780854895</td><td>0.9198688719186309</td><td>2.8550896819855835e-10</td><td>1.4134398473704592e-10</td><td>8.627305117726143e-11</td><td>0.9440215020789012</td><td>0.015806755048684694</td><td>0.9759772595295557</td><td>7102.3514920560665</td><td>84.27545011482327</td><td>3738.283960913639</td><td>3669.4316</td><td>39.967766055922766</td><td>False</td><td>3739.0</td><td>True</td></tr>\n",
       "<tr><td>1.1484140972154202</td><td>0.9198688719186309</td><td>1.4337423288737732</td><td>3.541746181057031e-11</td><td>1.9228221628759786e-11</td><td>2.128849263844194e-11</td><td>1.0134245447740542</td><td>0.03154150420024887</td><td>1.0779247689096558</td><td>2001.3993601514157</td><td>44.737002136390586</td><td>1107.7909435477247</td><td>1076.7733</td><td>0.03373430521605769</td><td>False</td><td>1108.0</td><td>True</td></tr>\n",
       "<tr><td>2.0</td><td>1.4337423288737732</td><td>2.789901587924842</td><td>4.382226542203865e-12</td><td>6.660629958261056e-12</td><td>1.224748021584201e-11</td><td>1.0399371674960607</td><td>0.04631295807461271</td><td>1.135143229060267</td><td>946.5789806123445</td><td>30.766523700482388</td><td>559.570795764225</td><td>536.868</td><td>1.8369215327925303</td><td>False</td><td>560.0</td><td>True</td></tr>\n",
       "<tr><td>3.483064174933826</td><td>2.789901587924842</td><td>4.34844587322206</td><td>4.0322286703594653e-13</td><td>6.884075505009135e-13</td><td>2.2740509689401222e-12</td><td>0.9870126972989657</td><td>0.12862152006692296</td><td>1.2607608473624332</td><td>90.76485377561949</td><td>9.527059030761775</td><td>86.86639392761428</td><td>74.30312</td><td>2.4651006407921443</td><td>False</td><td>87.0</td><td>True</td></tr>\n",
       "<tr><td>6.065868023353727</td><td>4.34844587322206</td><td>8.461587415248545</td><td>1.662726856906262e-14</td><td>1.055453887216378e-13</td><td>5.462542912192515e-13</td><td>0.23401597758005666</td><td>0.23396013157781234</td><td>0.7558110517800267</td><td>1.0706577259876884</td><td>1.0347259182931914</td><td>12.711439612567213</td><td>4.066392</td><td>2.351241714970597</td><td>True</td><td>12.0</td><td>True</td></tr>\n",
       "<tr><td>10.56390380101001</td><td>8.461587415248545</td><td>13.188549386831076</td><td>9.506154565504407e-17</td><td>9.761500365459833e-16</td><td>9.046802650432142e-15</td><td>4.721696860669949</td><td>2.7260727187709795</td><td>nan</td><td>5.180292712077605</td><td>2.276025639591436</td><td>3.6642385784200378</td><td>2.997572</td><td>3.0332414523637112</td><td>False</td><td>3.0</td><td>True</td></tr>\n",
       "<tr><td>18.397377438372608</td><td>13.188549386831076</td><td>25.663436264484197</td><td>6.97098353331905e-23</td><td>1.3784427772571223e-18</td><td>1.8963847422542646e-17</td><td>-12.765188603049188</td><td>12.76518756207857</td><td>nan</td><td>0.3905291573918854</td><td>-0.6249233212097988</td><td>0.0</td><td>-0.49980414</td><td>0.4204010588244434</td><td>True</td><td>0.0</td><td>True</td></tr>\n",
       "<tr><td>32.03962313416573</td><td>25.663436264484197</td><td>40.0</td><td>7.551908820374114e-43</td><td>7.928161344996472e-33</td><td>2.0572053798063748e-31</td><td>0.808582300581876</td><td>134.8876778542632</td><td>nan</td><td>-0.00015477696376759679</td><td>0.0</td><td>7.738848188379839e-05</td><td>7.738848e-05</td><td>0.00015477696376759679</td><td>True</td><td>0.0</td><td>True</td></tr>\n",
       "</table></div>"
      ],
      "text/plain": [
       "<Table length=11>\n",
       "       e_ref               e_min        ... counts [1] success\n",
       "        TeV                 TeV         ...                   \n",
       "      float64             float64       ...  float64     bool \n",
       "------------------- ------------------- ... ---------- -------\n",
       "0.12484541354466076 0.10000000000000002 ...        0.0   False\n",
       "0.21742229366110305  0.1558637728313736 ...        0.0   False\n",
       "0.37864790094146483  0.3032934011676863 ...     2369.0    True\n",
       " 0.6594274693415539 0.47272453780854895 ...     3739.0    True\n",
       " 1.1484140972154202  0.9198688719186309 ...     1108.0    True\n",
       "                2.0  1.4337423288737732 ...      560.0    True\n",
       "  3.483064174933826   2.789901587924842 ...       87.0    True\n",
       "  6.065868023353727    4.34844587322206 ...       12.0    True\n",
       "  10.56390380101001   8.461587415248545 ...        3.0    True\n",
       " 18.397377438372608  13.188549386831076 ...        0.0    True\n",
       "  32.03962313416573  25.663436264484197 ...        0.0    True"
      ]
     },
     "execution_count": 50,
     "metadata": {},
     "output_type": "execute_result"
    }
   ],
   "source": [
    "flux_points.to_table()"
   ]
  },
  {
   "cell_type": "markdown",
   "metadata": {},
   "source": [
    "# Exercises:\n",
    "\n",
    "## Beginner\n",
    "- Try other models, eg: log-parabola, broken power law, etc. See the model gallery for a list of available models: https://docs.gammapy.org/0.19/modeling/gallery/index.html \n",
    "- What is the impact of changing the on regions (their number, shape, finding method)? \n",
    "- Try to repeat the fit using a different minimizer. By default Gammapy uses Minuit, but it also supports the Sherpa and Scipy backends.\n",
    "\n",
    "## Advanced\n",
    "- Create a gammapy.estimators.FluxPointsDataset with the flux points you have computed for the stacked dataset and fit the flux points again with obe of the spectral models. How does the result compare to the best fit model, that was directly fitted to the counts data?\n",
    "- Compute a 2-dimensional likelihood contour to estimate the correlation between the fitted parameters (e.g. the spectral index and cutoff). (Tutorial reference: https://docs.gammapy.org/0.20/tutorials/api/fitting.html)\n",
    "- Repeat exercise on the Crab runs available in GAMMAPY_DATA. Alternatively, if you have access to CTA DC1 simulated data, repeat on your favourite source "
   ]
  },
  {
   "cell_type": "code",
   "execution_count": null,
   "metadata": {},
   "outputs": [],
   "source": []
  }
 ],
 "metadata": {
  "kernelspec": {
   "display_name": "Python 3 (ipykernel)",
   "language": "python",
   "name": "python3"
  },
  "language_info": {
   "codemirror_mode": {
    "name": "ipython",
    "version": 3
   },
   "file_extension": ".py",
   "mimetype": "text/x-python",
   "name": "python",
   "nbconvert_exporter": "python",
   "pygments_lexer": "ipython3",
   "version": "3.8.13"
  }
 },
 "nbformat": 4,
 "nbformat_minor": 4
}
